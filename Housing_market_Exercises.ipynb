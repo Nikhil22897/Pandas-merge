{
 "cells": [
  {
   "cell_type": "markdown",
   "metadata": {},
   "source": [
    "# Housing Market"
   ]
  },
  {
   "cell_type": "markdown",
   "metadata": {},
   "source": [
    "### Introduction:\n",
    "\n",
    "This time we will create our own dataset with fictional numbers to describe a house market. As we are going to create random data don't try to reason of the numbers.\n",
    "\n",
    "### Step 1. Import the necessary libraries"
   ]
  },
  {
   "cell_type": "code",
   "execution_count": 1,
   "metadata": {},
   "outputs": [],
   "source": [
    "import pandas as pd\n",
    "import numpy as np\n",
    "import matplotlib.pyplot as plt"
   ]
  },
  {
   "cell_type": "markdown",
   "metadata": {},
   "source": [
    "### Step 2. Create 3 differents Series, each of length 100, as follows: \n",
    "1. The first a random number from 1 to 4 \n",
    "2. The second a random number from 1 to 3\n",
    "3. The third a random number from 10,000 to 30,000"
   ]
  },
  {
   "cell_type": "code",
   "execution_count": 15,
   "metadata": {},
   "outputs": [
    {
     "name": "stdout",
     "output_type": "stream",
     "text": [
      "0     2\n",
      "1     4\n",
      "2     3\n",
      "3     2\n",
      "4     2\n",
      "5     2\n",
      "6     1\n",
      "7     1\n",
      "8     1\n",
      "9     1\n",
      "10    4\n",
      "11    4\n",
      "12    2\n",
      "13    4\n",
      "14    3\n",
      "15    3\n",
      "16    4\n",
      "17    3\n",
      "18    3\n",
      "19    3\n",
      "20    4\n",
      "21    4\n",
      "22    3\n",
      "23    2\n",
      "24    2\n",
      "25    2\n",
      "26    1\n",
      "27    4\n",
      "28    3\n",
      "29    1\n",
      "     ..\n",
      "70    4\n",
      "71    2\n",
      "72    4\n",
      "73    4\n",
      "74    1\n",
      "75    2\n",
      "76    4\n",
      "77    1\n",
      "78    4\n",
      "79    3\n",
      "80    1\n",
      "81    2\n",
      "82    1\n",
      "83    3\n",
      "84    3\n",
      "85    3\n",
      "86    3\n",
      "87    1\n",
      "88    3\n",
      "89    1\n",
      "90    3\n",
      "91    1\n",
      "92    3\n",
      "93    3\n",
      "94    4\n",
      "95    1\n",
      "96    2\n",
      "97    4\n",
      "98    4\n",
      "99    2\n",
      "Length: 100, dtype: int32\n",
      "0     2\n",
      "1     2\n",
      "2     3\n",
      "3     1\n",
      "4     2\n",
      "5     3\n",
      "6     3\n",
      "7     3\n",
      "8     2\n",
      "9     2\n",
      "10    1\n",
      "11    3\n",
      "12    3\n",
      "13    3\n",
      "14    3\n",
      "15    2\n",
      "16    1\n",
      "17    2\n",
      "18    2\n",
      "19    2\n",
      "20    3\n",
      "21    3\n",
      "22    3\n",
      "23    1\n",
      "24    2\n",
      "25    1\n",
      "26    3\n",
      "27    1\n",
      "28    2\n",
      "29    2\n",
      "     ..\n",
      "70    1\n",
      "71    2\n",
      "72    3\n",
      "73    2\n",
      "74    2\n",
      "75    2\n",
      "76    1\n",
      "77    2\n",
      "78    3\n",
      "79    3\n",
      "80    3\n",
      "81    2\n",
      "82    2\n",
      "83    2\n",
      "84    2\n",
      "85    1\n",
      "86    3\n",
      "87    3\n",
      "88    1\n",
      "89    3\n",
      "90    3\n",
      "91    3\n",
      "92    1\n",
      "93    3\n",
      "94    1\n",
      "95    3\n",
      "96    1\n",
      "97    3\n",
      "98    1\n",
      "99    1\n",
      "Length: 100, dtype: int32\n",
      "0     20388\n",
      "1     18460\n",
      "2     16030\n",
      "3     21682\n",
      "4     21539\n",
      "5     11740\n",
      "6     13931\n",
      "7     14377\n",
      "8     28826\n",
      "9     24429\n",
      "10    27823\n",
      "11    23346\n",
      "12    14811\n",
      "13    24794\n",
      "14    19981\n",
      "15    26237\n",
      "16    27765\n",
      "17    21340\n",
      "18    25351\n",
      "19    12336\n",
      "20    23346\n",
      "21    29547\n",
      "22    14958\n",
      "23    21627\n",
      "24    18486\n",
      "25    14349\n",
      "26    10408\n",
      "27    26675\n",
      "28    17860\n",
      "29    16726\n",
      "      ...  \n",
      "70    10166\n",
      "71    16751\n",
      "72    19588\n",
      "73    18851\n",
      "74    28419\n",
      "75    11022\n",
      "76    19617\n",
      "77    25693\n",
      "78    13978\n",
      "79    14257\n",
      "80    18032\n",
      "81    27916\n",
      "82    20602\n",
      "83    24708\n",
      "84    26562\n",
      "85    24872\n",
      "86    26871\n",
      "87    13497\n",
      "88    10132\n",
      "89    18322\n",
      "90    13472\n",
      "91    14932\n",
      "92    13629\n",
      "93    12961\n",
      "94    25897\n",
      "95    21031\n",
      "96    11898\n",
      "97    23402\n",
      "98    21468\n",
      "99    28685\n",
      "Length: 100, dtype: int32\n"
     ]
    }
   ],
   "source": [
    "data1 = pd.Series(np.random.randint(1,5,100))\n",
    "data2 = pd.Series(np.random.randint(1,4,100))\n",
    "data3 = pd.Series(np.random.randint(10000,30001,100))\n",
    "print(data1)\n",
    "print(data2)\n",
    "print(data3)"
   ]
  },
  {
   "cell_type": "markdown",
   "metadata": {},
   "source": [
    "### Step 3. Let's create a DataFrame by joinning the Series by column"
   ]
  },
  {
   "cell_type": "code",
   "execution_count": 21,
   "metadata": {},
   "outputs": [
    {
     "data": {
      "text/html": [
       "<div>\n",
       "<style scoped>\n",
       "    .dataframe tbody tr th:only-of-type {\n",
       "        vertical-align: middle;\n",
       "    }\n",
       "\n",
       "    .dataframe tbody tr th {\n",
       "        vertical-align: top;\n",
       "    }\n",
       "\n",
       "    .dataframe thead th {\n",
       "        text-align: right;\n",
       "    }\n",
       "</style>\n",
       "<table border=\"1\" class=\"dataframe\">\n",
       "  <thead>\n",
       "    <tr style=\"text-align: right;\">\n",
       "      <th></th>\n",
       "      <th>0</th>\n",
       "      <th>1</th>\n",
       "      <th>2</th>\n",
       "    </tr>\n",
       "  </thead>\n",
       "  <tbody>\n",
       "    <tr>\n",
       "      <th>0</th>\n",
       "      <td>2</td>\n",
       "      <td>2</td>\n",
       "      <td>20388</td>\n",
       "    </tr>\n",
       "    <tr>\n",
       "      <th>1</th>\n",
       "      <td>4</td>\n",
       "      <td>2</td>\n",
       "      <td>18460</td>\n",
       "    </tr>\n",
       "    <tr>\n",
       "      <th>2</th>\n",
       "      <td>3</td>\n",
       "      <td>3</td>\n",
       "      <td>16030</td>\n",
       "    </tr>\n",
       "    <tr>\n",
       "      <th>3</th>\n",
       "      <td>2</td>\n",
       "      <td>1</td>\n",
       "      <td>21682</td>\n",
       "    </tr>\n",
       "    <tr>\n",
       "      <th>4</th>\n",
       "      <td>2</td>\n",
       "      <td>2</td>\n",
       "      <td>21539</td>\n",
       "    </tr>\n",
       "  </tbody>\n",
       "</table>\n",
       "</div>"
      ],
      "text/plain": [
       "   0  1      2\n",
       "0  2  2  20388\n",
       "1  4  2  18460\n",
       "2  3  3  16030\n",
       "3  2  1  21682\n",
       "4  2  2  21539"
      ]
     },
     "execution_count": 21,
     "metadata": {},
     "output_type": "execute_result"
    }
   ],
   "source": [
    "data_col =  pd.concat([data1,data2,data3],axis=1).head()\n",
    "data_col.head()"
   ]
  },
  {
   "cell_type": "markdown",
   "metadata": {},
   "source": [
    "### Step 4. Change the name of the columns to bedrs, bathrs, price_sqr_meter"
   ]
  },
  {
   "cell_type": "code",
   "execution_count": 23,
   "metadata": {
    "scrolled": true
   },
   "outputs": [
    {
     "data": {
      "text/html": [
       "<div>\n",
       "<style scoped>\n",
       "    .dataframe tbody tr th:only-of-type {\n",
       "        vertical-align: middle;\n",
       "    }\n",
       "\n",
       "    .dataframe tbody tr th {\n",
       "        vertical-align: top;\n",
       "    }\n",
       "\n",
       "    .dataframe thead th {\n",
       "        text-align: right;\n",
       "    }\n",
       "</style>\n",
       "<table border=\"1\" class=\"dataframe\">\n",
       "  <thead>\n",
       "    <tr style=\"text-align: right;\">\n",
       "      <th></th>\n",
       "      <th>bedrs</th>\n",
       "      <th>bathrs</th>\n",
       "      <th>price_sqr_meter</th>\n",
       "    </tr>\n",
       "  </thead>\n",
       "  <tbody>\n",
       "    <tr>\n",
       "      <th>0</th>\n",
       "      <td>2</td>\n",
       "      <td>2</td>\n",
       "      <td>20388</td>\n",
       "    </tr>\n",
       "    <tr>\n",
       "      <th>1</th>\n",
       "      <td>4</td>\n",
       "      <td>2</td>\n",
       "      <td>18460</td>\n",
       "    </tr>\n",
       "    <tr>\n",
       "      <th>2</th>\n",
       "      <td>3</td>\n",
       "      <td>3</td>\n",
       "      <td>16030</td>\n",
       "    </tr>\n",
       "    <tr>\n",
       "      <th>3</th>\n",
       "      <td>2</td>\n",
       "      <td>1</td>\n",
       "      <td>21682</td>\n",
       "    </tr>\n",
       "    <tr>\n",
       "      <th>4</th>\n",
       "      <td>2</td>\n",
       "      <td>2</td>\n",
       "      <td>21539</td>\n",
       "    </tr>\n",
       "  </tbody>\n",
       "</table>\n",
       "</div>"
      ],
      "text/plain": [
       "   bedrs  bathrs  price_sqr_meter\n",
       "0      2       2            20388\n",
       "1      4       2            18460\n",
       "2      3       3            16030\n",
       "3      2       1            21682\n",
       "4      2       2            21539"
      ]
     },
     "execution_count": 23,
     "metadata": {},
     "output_type": "execute_result"
    }
   ],
   "source": [
    "data_col.columns = ['bedrs','bathrs','price_sqr_meter']\n",
    "data_col.head()"
   ]
  },
  {
   "cell_type": "markdown",
   "metadata": {},
   "source": [
    "### Step 5. Create a one column DataFrame with the values of the 3 Series and assign it to 'bigcolumn'"
   ]
  },
  {
   "cell_type": "code",
   "execution_count": 31,
   "metadata": {},
   "outputs": [
    {
     "data": {
      "text/plain": [
       "95    21031\n",
       "96    11898\n",
       "97    23402\n",
       "98    21468\n",
       "99    28685\n",
       "dtype: int32"
      ]
     },
     "execution_count": 31,
     "metadata": {},
     "output_type": "execute_result"
    }
   ],
   "source": [
    "bigcolumn = pd.concat([data1,data2,data3])\n",
    "bigcolumn.tail()"
   ]
  },
  {
   "cell_type": "markdown",
   "metadata": {},
   "source": [
    "### Step 6. Ops it seems it is going only until index 99. Is it true?"
   ]
  },
  {
   "cell_type": "code",
   "execution_count": 32,
   "metadata": {},
   "outputs": [
    {
     "data": {
      "text/plain": [
       "300"
      ]
     },
     "execution_count": 32,
     "metadata": {},
     "output_type": "execute_result"
    }
   ],
   "source": [
    "len(bigcolumn)\n",
    "#Index are showing upto 99 only but the length of dataframe is showing 300"
   ]
  },
  {
   "cell_type": "markdown",
   "metadata": {},
   "source": [
    "### Step 7. Reindex the DataFrame so it goes from 0 to 299"
   ]
  },
  {
   "cell_type": "code",
   "execution_count": 33,
   "metadata": {},
   "outputs": [
    {
     "data": {
      "text/plain": [
       "295    21031\n",
       "296    11898\n",
       "297    23402\n",
       "298    21468\n",
       "299    28685\n",
       "dtype: int32"
      ]
     },
     "execution_count": 33,
     "metadata": {},
     "output_type": "execute_result"
    }
   ],
   "source": [
    "bigcolumn = pd.concat([data1,data2,data3],ignore_index=True)\n",
    "bigcolumn.tail()"
   ]
  }
 ],
 "metadata": {
  "kernelspec": {
   "display_name": "Python 3",
   "language": "python",
   "name": "python3"
  },
  "language_info": {
   "codemirror_mode": {
    "name": "ipython",
    "version": 3
   },
   "file_extension": ".py",
   "mimetype": "text/x-python",
   "name": "python",
   "nbconvert_exporter": "python",
   "pygments_lexer": "ipython3",
   "version": "3.6.4"
  }
 },
 "nbformat": 4,
 "nbformat_minor": 1
}
